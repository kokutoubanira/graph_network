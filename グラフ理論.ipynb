{
 "cells": [
  {
   "cell_type": "markdown",
   "metadata": {},
   "source": [
    "# グラフ理論に基づくモデル"
   ]
  },
  {
   "cell_type": "code",
   "execution_count": 5,
   "metadata": {},
   "outputs": [],
   "source": [
    "import networkx as nx\n",
    "import matplotlib.pyplot  as plt"
   ]
  },
  {
   "cell_type": "code",
   "execution_count": 6,
   "metadata": {},
   "outputs": [
    {
     "data": {
      "image/png": "[encoded data removed]",
      "text/plain": [
       "<Figure size 432x432 with 1 Axes>"
      ]
     },
     "metadata": {},
     "output_type": "display_data"
    }
   ],
   "source": [
    "G = nx.Graph()\n",
    "G.add_edges_from([(0,1),(0,3),(0,5),(2,3),(2,4),(2,5),(3,5),(4,5)])\n",
    "plt.subplots(figsize=(6,6))\n",
    "pos = nx.circular_layout(G)\n",
    "nx.draw_networkx(G, pos, node_color=\"lightgray\", edgecolors=\"k\")"
   ]
  },
  {
   "cell_type": "markdown",
   "metadata": {},
   "source": [
    "# 隣接表列"
   ]
  },
  {
   "cell_type": "code",
   "execution_count": 7,
   "metadata": {},
   "outputs": [
    {
     "name": "stdout",
     "output_type": "stream",
     "text": [
      "[[0 1 1 1 0 0]\n",
      " [1 0 0 0 0 0]\n",
      " [1 0 0 1 1 0]\n",
      " [1 0 1 0 1 1]\n",
      " [0 0 1 1 0 1]\n",
      " [0 0 0 1 1 0]]\n"
     ]
    }
   ],
   "source": [
    "adj = nx.adjacency_matrix(G) # 隣接表列\n",
    "print(adj.todense())"
   ]
  },
  {
   "cell_type": "markdown",
   "metadata": {},
   "source": [
    "# 距離と平均距離"
   ]
  },
  {
   "cell_type": "markdown",
   "metadata": {},
   "source": [
    "距離とはあるノードから別のノードまで最短で到達するためにだとったエッジの数のこと"
   ]
  },
  {
   "cell_type": "code",
   "execution_count": 8,
   "metadata": {},
   "outputs": [
    {
     "name": "stdout",
     "output_type": "stream",
     "text": [
      "2\n",
      "3\n"
     ]
    }
   ],
   "source": [
    "length = dict(nx.shortest_path_length(G)) # 距離\n",
    "print(length[0][4])\n",
    "print(length[1][2])"
   ]
  },
  {
   "cell_type": "markdown",
   "metadata": {},
   "source": [
    "# 最短距離で経路をたどる"
   ]
  },
  {
   "cell_type": "code",
   "execution_count": 9,
   "metadata": {},
   "outputs": [
    {
     "name": "stdout",
     "output_type": "stream",
     "text": [
      "[0, 5, 4]\n",
      "[1, 0, 3, 2]\n"
     ]
    }
   ],
   "source": [
    "path = dict(nx.shortest_path(G))\n",
    "print(path[0][4])\n",
    "print(path[1][2])"
   ]
  },
  {
   "cell_type": "markdown",
   "metadata": {},
   "source": [
    "ネットワークを評価するときは平均距離が重要になる"
   ]
  },
  {
   "cell_type": "code",
   "execution_count": 10,
   "metadata": {},
   "outputs": [
    {
     "name": "stdout",
     "output_type": "stream",
     "text": [
      "1.6\n"
     ]
    }
   ],
   "source": [
    "avr_length = nx.average_shortest_path_length(G)\n",
    "print(avr_length)"
   ]
  },
  {
   "cell_type": "markdown",
   "metadata": {},
   "source": [
    "次元数と次数中心性"
   ]
  },
  {
   "cell_type": "code",
   "execution_count": 11,
   "metadata": {},
   "outputs": [
    {
     "name": "stdout",
     "output_type": "stream",
     "text": [
      "[(0, 3), (1, 1), (3, 3), (5, 4), (2, 3), (4, 2)]\n",
      "{0: 0.6000000000000001, 1: 0.2, 3: 0.6000000000000001, 5: 0.8, 2: 0.6000000000000001, 4: 0.4}\n"
     ]
    }
   ],
   "source": [
    "dg = nx.degree(G) # 次数\n",
    "dg_cent = nx.degree_centrality(G)\n",
    "print(dg)\n",
    "print(dg_cent)"
   ]
  },
  {
   "cell_type": "code",
   "execution_count": null,
   "metadata": {},
   "outputs": [],
   "source": []
  }
 ],
 "metadata": {
  "interpreter": {
   "hash": "97ae724bfa85b9b34df7982b8bb8c7216f435b92902d749e4263f71162bea840"
  },
  "kernelspec": {
   "display_name": "Python 3.7.6 ('base')",
   "language": "python",
   "name": "python3"
  },
  "language_info": {
   "codemirror_mode": {
    "name": "ipython",
    "version": 3
   },
   "file_extension": ".py",
   "mimetype": "text/x-python",
   "name": "python",
   "nbconvert_exporter": "python",
   "pygments_lexer": "ipython3",
   "version": "3.7.6"
  },
  "orig_nbformat": 4
 },
 "nbformat": 4,
 "nbformat_minor": 2
}
