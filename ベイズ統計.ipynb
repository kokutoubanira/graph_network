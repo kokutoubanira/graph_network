{
 "cells": [
  {
   "cell_type": "markdown",
   "metadata": {},
   "source": [
    "# ベイズ統計に基づくモデル"
   ]
  },
  {
   "cell_type": "markdown",
   "metadata": {},
   "source": [
    "## 確立分布のベイズ推定"
   ]
  },
  {
   "cell_type": "code",
   "execution_count": 6,
   "metadata": {},
   "outputs": [
    {
     "name": "stdout",
     "output_type": "stream",
     "text": [
      "p 1/60\n"
     ]
    }
   ],
   "source": [
    "import sympy\n",
    "p = sympy.Symbol('p')\n",
    "linkelihood = p ** 3 * (1-p) ** 2\n",
    "const = sympy.integrate(linkelihood, (p,0,1))\n",
    "print(p,const)"
   ]
  },
  {
   "cell_type": "markdown",
   "metadata": {},
   "source": [
    "## PyMC3, Theano,グラフィックパッケージ"
   ]
  },
  {
   "cell_type": "code",
   "execution_count": 7,
   "metadata": {},
   "outputs": [
    {
     "data": {
      "text/plain": [
       "16"
      ]
     },
     "execution_count": 7,
     "metadata": {},
     "output_type": "execute_result"
    }
   ],
   "source": [
    "import os\n",
    "os.cpu_count()"
   ]
  },
  {
   "cell_type": "code",
   "execution_count": 13,
   "metadata": {},
   "outputs": [],
   "source": [
    "import math\n",
    "import numpy as np\n",
    "import scipy.stats as stats"
   ]
  },
  {
   "cell_type": "code",
   "execution_count": 9,
   "metadata": {},
   "outputs": [],
   "source": [
    "#メトロポリス法のアルゴリズム\n",
    "def f(x):\n",
    "    return 1/math.sqrt(2*math.pi)*math.exp(-x**2/2)"
   ]
  },
  {
   "cell_type": "code",
   "execution_count": 14,
   "metadata": {},
   "outputs": [],
   "source": [
    "ndata = 1000 # the number of data\n",
    "nskip = 10# skip interval\n",
    "loopmax = ndata * nskip # whole calculation\n",
    "theta = -10 # initial value\n",
    "sdata = np.zeros(ndata) # strage\n",
    "cnt = 0 # counter\n",
    "for k in range(loopmax):\n",
    "    xi = stats.uniform.rvs(loc=-1, scale=2, size=1)\n",
    "    theta_new = theta + xi\n",
    "    alp = min(1, f(theta_new / f(theta)))\n",
    "    r = np.random.rand()\n",
    "    if r > alp:\n",
    "        theta_new = theta\n",
    "    theta = theta_new\n",
    "    if k % nskip == 0:\n",
    "        sdata[cnt] == 0\n",
    "        cnt += 1\n"
   ]
  },
  {
   "cell_type": "code",
   "execution_count": null,
   "metadata": {},
   "outputs": [],
   "source": []
  }
 ],
 "metadata": {
  "interpreter": {
   "hash": "97ae724bfa85b9b34df7982b8bb8c7216f435b92902d749e4263f71162bea840"
  },
  "kernelspec": {
   "display_name": "Python 3.7.6 ('base')",
   "language": "python",
   "name": "python3"
  },
  "language_info": {
   "codemirror_mode": {
    "name": "ipython",
    "version": 3
   },
   "file_extension": ".py",
   "mimetype": "text/x-python",
   "name": "python",
   "nbconvert_exporter": "python",
   "pygments_lexer": "ipython3",
   "version": "3.7.6"
  },
  "orig_nbformat": 4
 },
 "nbformat": 4,
 "nbformat_minor": 2
}
